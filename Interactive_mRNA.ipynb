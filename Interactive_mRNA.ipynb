{
 "cells": [
  {
   "cell_type": "markdown",
   "id": "c3549385",
   "metadata": {},
   "source": [
    "# Interactive dynamic simulations: create your own mutants to study mRNA stability\n",
    "\n",
    "Author: Anna B. Matuszyńska <a href=\"https://orcid.org/0000-0003-0882-6088\"><img src=\"https://orcid.org/assets/vectors/orcid.logo.icon.svg\" width=15></a>\n",
    "\n",
    "In this notebook you can **create your own strain** and investigate the effect of:\n",
    "- initial mRNA concentration, \n",
    "- rate of mRNA synthesis and \n",
    "- mRNA degradation \n",
    "on the overall mRNA dynamics.\n",
    "\n",
    "### How to use the notebook? \n",
    "To do the first run put a cursor on the cell below, the one with a lot of code in it and **execte it**: either by hitting the button Run from the Jupyter Notebook panel above this text, or by clicking Shift+Enter. Execution of this cell will lead to printing the message to you and the coursor will automatically move to the next cell.\n",
    "\n",
    "Execute it too! What you will see is the three sliders poping up on your screen: with these sliders you are able to  select the desigered values for the three parameters affecting mRNA dynamics without really needing to code anything! Once you select the values of interest using sliders hit the *Run Simulation* button below.\n",
    "\n",
    "You can save every result of your simulation by right clicking the figure and saving it as.\n",
    "\n",
    "**Have fun!**"
   ]
  },
  {
   "cell_type": "code",
   "execution_count": 1,
   "id": "3a137ea7",
   "metadata": {},
   "outputs": [
    {
     "name": "stdout",
     "output_type": "stream",
     "text": [
      "Well done, the model has been created and now you can run unlimited simulations with it\n"
     ]
    }
   ],
   "source": [
    "from model import m\n",
    "import numpy as np\n",
    "from modelbase.ode import Model, Simulator, mca\n",
    "\n",
    "def decay(halftime):\n",
    "    \"\"\" return the rate of mRNA decay for the given half-life\"\"\"\n",
    "    return np.log(2)/halftime\n",
    "\n",
    "%matplotlib inline\n",
    "\n",
    "import numpy as np\n",
    "import pandas\n",
    "\n",
    "import matplotlib as mpl\n",
    "from mpl_toolkits.mplot3d import Axes3D\n",
    "import matplotlib.pyplot as plt\n",
    "\n",
    "from modelbase.ode import Model, Simulator, mca\n",
    "from modelbase.ode import ratelaws as rl\n",
    "\n",
    "m = Model()\n",
    "\n",
    "m.add_compounds([\"mRNA\"])\n",
    "m.add_parameters({'kSynth': 1, 'kDecay': decay(0.0578)})\n",
    "\n",
    "def constant(k):\n",
    "    return k\n",
    "\n",
    "def mass_action_1s(s, kp):\n",
    "    \"\"\"Irreversible mass-action function with 1 substrate\n",
    "    Arguments:\n",
    "    s -> Substrate\n",
    "    kp -> positive rate constant \n",
    "    \"\"\"\n",
    "    return kp * s\n",
    "\n",
    "m.add_reaction_from_args(\n",
    "    rate_name = \"vSynth\", #This should be a unique name that helps you identify the appropriate reaction\n",
    "    function = constant, #This is the appropriate function you created beforehand\n",
    "    stoichiometry = {\"mRNA\": 1}, #This is a dictionary of the compounds with their respective stochiometry in this specific reaction\n",
    "    args = [\"kSynth\"] #this is a list of all arguments passed to the function, in their respective oder\n",
    ")\n",
    "\n",
    "m.add_reaction_from_args(\n",
    "    rate_name = \"vDecay\",\n",
    "    function = mass_action_1s,\n",
    "    stoichiometry = {\"mRNA\": -1},\n",
    "    args = [\"mRNA\", \"kDecay\"],\n",
    "    reversible = False\n",
    ")\n",
    "\n",
    "print('Well done, the model has been created and now you can run unlimited simulations with it')"
   ]
  },
  {
   "cell_type": "code",
   "execution_count": 10,
   "id": "d5e41b8f",
   "metadata": {},
   "outputs": [
    {
     "data": {
      "application/vnd.jupyter.widget-view+json": {
       "model_id": "1bd3f0cdaed848b987c91faa85f425dd",
       "version_major": 2,
       "version_minor": 0
      },
      "text/plain": [
       "interactive(children=(IntSlider(value=36, continuous_update=False, description='[mRNA] at t0', max=1000), IntS…"
      ]
     },
     "metadata": {},
     "output_type": "display_data"
    }
   ],
   "source": [
    "import ipywidgets as widgets\n",
    "from IPython.display import display\n",
    "\n",
    "widgets.interact_manual.opts['manual_name'] = 'Run simulation'\n",
    "\n",
    "@widgets.interact_manual(\n",
    "    y0= widgets.IntSlider(\n",
    "    value=36,\n",
    "    min=0,\n",
    "    max=1000,\n",
    "    step=1,\n",
    "    description='[mRNA] at t0',\n",
    "    disabled=False,\n",
    "    continuous_update=False,\n",
    "    orientation='horizontal',\n",
    "    readout=True,\n",
    "    readout_format='d'\n",
    "), synthesis=widgets.IntSlider(\n",
    "    value=36,\n",
    "    min=0,\n",
    "    max=1000,\n",
    "    step=1,\n",
    "    description='synthesis',\n",
    "    disabled=False,\n",
    "    continuous_update=False,\n",
    "    orientation='horizontal',\n",
    "    readout=True,\n",
    "    readout_format='d'\n",
    "), halftime=(1., 180.))\n",
    "def plot(y0=36., synthesis=30, halftime=8, grid=True):\n",
    "    s = Simulator(m)\n",
    "    y0 = {'mRNA': y0}\n",
    "    m.update_parameters({'kSynth': synthesis, 'kDecay': decay(halftime)})\n",
    "    s.initialise(y0)\n",
    "    t, y = s.simulate(4*60) #Actually simulating the model until the given time point. The specifc time steps are stored as an array in the variable t\n",
    "                                #and the different concentrations in a nested array\n",
    "    findhalf = min([i for i in range(len(y)) if y[i] >= 0.5 * y[-1]])\n",
    "    \n",
    "    plt.plot(t[findhalf], \n",
    "             y[findhalf], marker='o', color='r', markersize=5)\n",
    "    \n",
    "    plt.axhline(y=y[findhalf], xmin=0, xmax=1, color='r', linestyle = \"--\")\n",
    "    plt.axvline(x=t[findhalf], color='r', linestyle = \"--\")\n",
    "    \n",
    "    plt.plot(t,y, color='r')\n",
    "    plt.xlabel(\"Time/min.\")\n",
    "    plt.ylabel(\"Concentration [au]\") #modelbase gives us the option to plot immediately through our Simulator() object,\n",
    "                                                                        #but we could have also done it with the t and y variables appointed earlier.\n",
    "    print('Results of the simulation for the selected parameters: rate of synthesis:', str(synthesis), \n",
    "          ', initial concentration of mRNA set to: ', str(y0), 'and halftime of: ', str(halftime))"
   ]
  },
  {
   "cell_type": "code",
   "execution_count": null,
   "id": "71098aac",
   "metadata": {},
   "outputs": [],
   "source": []
  },
  {
   "cell_type": "code",
   "execution_count": null,
   "id": "c95ab98d",
   "metadata": {},
   "outputs": [],
   "source": []
  }
 ],
 "metadata": {
  "kernelspec": {
   "display_name": "Python 3 (ipykernel)",
   "language": "python",
   "name": "python3"
  },
  "language_info": {
   "codemirror_mode": {
    "name": "ipython",
    "version": 3
   },
   "file_extension": ".py",
   "mimetype": "text/x-python",
   "name": "python",
   "nbconvert_exporter": "python",
   "pygments_lexer": "ipython3",
   "version": "3.10.9"
  }
 },
 "nbformat": 4,
 "nbformat_minor": 5
}
